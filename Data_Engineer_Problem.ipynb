{
 "cells": [
  {
   "cell_type": "code",
   "execution_count": 31,
   "metadata": {},
   "outputs": [
    {
     "name": "stdout",
     "output_type": "stream",
     "text": [
      "done.\n"
     ]
    }
   ],
   "source": [
    "# This is a Python 3 file that generates data for\n",
    "# prospective data engineer candidates.\n",
    "\n",
    "\n",
    "import pandas as pd\n",
    "from random import random\n",
    "nums = list()\n",
    "\n",
    "for i in range(0,10000):\n",
    "    ui = 0;\n",
    "    for x in range(0,12):\n",
    "        ui = ui + random()\n",
    "    nums.append(5 + 3*ui)\n",
    "        \n",
    "df = pd.DataFrame(nums)\n",
    "df.to_csv(\"data.csv\", header=0)\n",
    "print(\"done.\")\n",
    "    \n",
    "    \n",
    "    "
   ]
  },
  {
   "cell_type": "code",
   "execution_count": 32,
   "metadata": {},
   "outputs": [
    {
     "name": "stdout",
     "output_type": "stream",
     "text": [
      "Mean: 23.036075172576503\n",
      "Std:  2.995296292940271\n"
     ]
    },
    {
     "data": {
      "image/png": "[encoded data removed]",
      "text/plain": [
       "<Figure size 432x288 with 1 Axes>"
      ]
     },
     "metadata": {
      "needs_background": "light"
     },
     "output_type": "display_data"
    }
   ],
   "source": [
    "# Hmmm...  I wonder what this does?\n",
    "import statistics\n",
    "from matplotlib import pyplot as plt\n",
    "%matplotlib inline\n",
    "\n",
    "plt.hist(nums, bins=100, range=[0,50])\n",
    "print(\"Mean: {}\".format(statistics.mean(nums)))\n",
    "print(\"Std:  {}\".format(statistics.stdev(nums)))"
   ]
  }
 ],
 "metadata": {
  "kernelspec": {
   "display_name": "Python 3",
   "language": "python",
   "name": "python3"
  },
  "language_info": {
   "codemirror_mode": {
    "name": "ipython",
    "version": 3
   },
   "file_extension": ".py",
   "mimetype": "text/x-python",
   "name": "python",
   "nbconvert_exporter": "python",
   "pygments_lexer": "ipython3",
   "version": "3.7.3"
  }
 },
 "nbformat": 4,
 "nbformat_minor": 2
}
